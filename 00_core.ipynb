{
 "cells": [
  {
   "cell_type": "code",
   "execution_count": 1,
   "metadata": {},
   "outputs": [],
   "source": [
    "# default_exp core"
   ]
  },
  {
   "cell_type": "markdown",
   "metadata": {},
   "source": [
    "# hmd_dl\n",
    "\n",
    "> Download Heritage made Digital Newspaper from the BL repository "
   ]
  },
  {
   "cell_type": "code",
   "execution_count": 2,
   "metadata": {},
   "outputs": [],
   "source": [
    "#export\n",
    "import concurrent\n",
    "import itertools\n",
    "import json\n",
    "from requests.adapters import HTTPAdapter\n",
    "from requests.packages.urllib3.util.retry import Retry\n",
    "import random\n",
    "import sys\n",
    "import time\n",
    "from collections import namedtuple\n",
    "from functools import lru_cache\n",
    "from operator import itemgetter\n",
    "#from os import umask\n",
    "import os\n",
    "from pathlib import Path\n",
    "from typing import List, Optional, Union\n",
    "\n",
    "import requests\n",
    "from bs4 import BeautifulSoup\n",
    "from fastcore.script import *\n",
    "from fastcore.test import *\n",
    "from fastcore.net import urlvalid\n",
    "from loguru import logger\n",
    "from nbdev.showdoc import *\n",
    "from tqdm import tqdm"
   ]
  },
  {
   "cell_type": "code",
   "execution_count": 3,
   "metadata": {},
   "outputs": [],
   "source": [
    "#export\n",
    "def _get_link(x: str):\n",
    "    end = str(x).split('\"')[3]\n",
    "    return \"https://bl.iro.bl.uk\" + end"
   ]
  },
  {
   "cell_type": "code",
   "execution_count": 4,
   "metadata": {},
   "outputs": [],
   "source": [
    "#export\n",
    "@lru_cache(256)\n",
    "def get_newspaper_links():\n",
    "    urls = [f\"https://bl.iro.bl.uk/collection/353c908d-b495-4413-b047-87236d2573e3?page={page}\" for page in range(1, 3)]\n",
    "    link_tuples = []\n",
    "    for url in urls:\n",
    "        r = requests.get(url)\n",
    "        r.raise_for_status()\n",
    "        soup = BeautifulSoup(r.text, 'lxml')\n",
    "        links = soup.find_all(\"h3\", class_=\"title_title__2nRVt\")\n",
    "        for link in links:\n",
    "            t = (link.text, _get_link(link))\n",
    "            link_tuples.append(t)\n",
    "        return link_tuples"
   ]
  },
  {
   "cell_type": "code",
   "execution_count": 5,
   "metadata": {},
   "outputs": [
    {
     "data": {
      "text/plain": [
       "[('The Express',\n",
       "  'https://bl.iro.bl.uk/work/ns/93ec8ab4-3348-409c-bf6d-a9537156f654'),\n",
       " ('The Press.',\n",
       "  'https://bl.iro.bl.uk/work/ns/2f70fbcd-9530-496a-903f-dfa4e7b20d3b'),\n",
       " ('The Star',\n",
       "  'https://bl.iro.bl.uk/work/ns/dd9873cf-cba1-4160-b1f9-ccdab8eb6312'),\n",
       " ('National Register.',\n",
       "  'https://bl.iro.bl.uk/work/ns/f3ecea7f-7efa-4191-94ab-e4523384c182'),\n",
       " ('The Statesman',\n",
       "  'https://bl.iro.bl.uk/work/ns/551cdd7b-580d-472d-8efb-b7f05cf64a11'),\n",
       " ('The British Press; or, Morning Literary Advertiser',\n",
       "  'https://bl.iro.bl.uk/work/ns/aef16a3c-53b6-4203-ac08-d102cb54f8fa'),\n",
       " ('The Sun',\n",
       "  'https://bl.iro.bl.uk/work/ns/b9a877b8-db7a-4e5f-afe6-28dc7d3ec988'),\n",
       " ('The Liverpool Standard etc',\n",
       "  'https://bl.iro.bl.uk/work/ns/fb5e24e3-0ac9-4180-a1f4-268fc7d019c1'),\n",
       " ('Colored News',\n",
       "  'https://bl.iro.bl.uk/work/ns/bacd53d6-86b7-4f8a-af31-0a12e8eaf6ee'),\n",
       " ('The Northern Daily Times etc',\n",
       "  'https://bl.iro.bl.uk/work/ns/5243dccc-3fad-4a9e-a2c1-d07e750c46a6')]"
      ]
     },
     "execution_count": 5,
     "metadata": {},
     "output_type": "execute_result"
    }
   ],
   "source": [
    "links = get_newspaper_links()\n",
    "links"
   ]
  },
  {
   "cell_type": "code",
   "execution_count": 6,
   "metadata": {},
   "outputs": [],
   "source": [
    "assert len(links[0]) == 2 #test tuple len\n",
    "assert next(iter(set(map(urlvalid, map(itemgetter(1), links))))) == True #check second item valid url"
   ]
  },
  {
   "cell_type": "code",
   "execution_count": 7,
   "metadata": {},
   "outputs": [],
   "source": [
    "#export\n",
    "@lru_cache(256)\n",
    "def get_download_urls(url: str) -> list:\n",
    "    \"\"\"Given a dataset page on the IRO repo return all download links for that page\"\"\"\n",
    "    try:\n",
    "        r = requests.get(url, timeout=30)\n",
    "    except requests.exceptions.MissingSchema as E:\n",
    "        print(E)\n",
    "    try:\n",
    "        soup = BeautifulSoup(r.text, \"lxml\")\n",
    "        data = json.loads(soup.find(\"script\", type=\"application/ld+json\").string)\n",
    "    except AttributeError as E:\n",
    "        print(E)\n",
    "    if data:\n",
    "        data = data[\"distribution\"]\n",
    "        urls = [item[\"contentUrl\"] for item in data]\n",
    "    return urls"
   ]
  },
  {
   "cell_type": "code",
   "execution_count": 8,
   "metadata": {},
   "outputs": [
    {
     "data": {
      "text/plain": [
       "['https://bl.oar.bl.uk/fail_uploads/download_file?fileset_id=7ac7a0cb-29a2-4172-8b79-4952e2c9b128',\n",
       " 'https://bl.oar.bl.uk/fail_uploads/download_file?fileset_id=80708825-d96a-4301-9496-9598932520f4',\n",
       " 'https://bl.oar.bl.uk/fail_uploads/download_file?fileset_id=0ea7aa1f-3b4f-4972-bc12-b7559769471f',\n",
       " 'https://bl.oar.bl.uk/fail_uploads/download_file?fileset_id=17b6e110-8ed0-46cb-8030-6cc7f387ade5',\n",
       " 'https://bl.oar.bl.uk/fail_uploads/download_file?fileset_id=54d974ba-fcb2-4566-a5ac-b66d85954963']"
      ]
     },
     "execution_count": 8,
     "metadata": {},
     "output_type": "execute_result"
    }
   ],
   "source": [
    "get_download_urls(\"https://bl.iro.bl.uk/work/ns/93ec8ab4-3348-409c-bf6d-a9537156f654\")[:5]"
   ]
  },
  {
   "cell_type": "code",
   "execution_count": 9,
   "metadata": {},
   "outputs": [],
   "source": [
    "assert len(links) == 10\n",
    "assert type(links[0]) == tuple\n",
    "assert (list(map(itemgetter(1), links))[-1]).startswith(\"https://\")"
   ]
  },
  {
   "cell_type": "code",
   "execution_count": 10,
   "metadata": {},
   "outputs": [],
   "source": [
    "#export\n",
    "def create_session() -> requests.sessions.Session:\n",
    "    \"\"\"returns a requests session\"\"\"\n",
    "    retry_strategy = Retry(total=60)\n",
    "    adapter = HTTPAdapter(max_retries=retry_strategy)\n",
    "    session = requests.Session()\n",
    "    session.mount(\"https://\", adapter)\n",
    "    session.mount(\"http://\", adapter)\n",
    "    return session"
   ]
  },
  {
   "cell_type": "code",
   "execution_count": 11,
   "metadata": {},
   "outputs": [],
   "source": [
    "#export\n",
    "def _download(url: str, dir: Union[str, Path]):\n",
    "    fname = None\n",
    "    s = create_session()\n",
    "    try:\n",
    "        r = s.get(url, stream=True, timeout=(30))\n",
    "        r.raise_for_status()\n",
    "        fname = r.headers[\"Content-Disposition\"].split('\"')[1]\n",
    "        if fname:\n",
    "            with open(f\"{dir}/{fname}\", \"wb\") as f:\n",
    "                for chunk in r.iter_content(chunk_size=8192):\n",
    "                    f.write(chunk)\n",
    "    except KeyError:\n",
    "        pass\n",
    "    except requests.exceptions.RequestException as request_exception:\n",
    "        logger.error(request_exception)\n",
    "    return fname"
   ]
  },
  {
   "cell_type": "code",
   "execution_count": 12,
   "metadata": {},
   "outputs": [
    {
     "data": {
      "text/plain": [
       "'BLNewspapers_0002642_TheExpress_1846_5ba8c588-d803-4c39-9c57-65e52712b161.zip'"
      ]
     },
     "execution_count": 12,
     "metadata": {},
     "output_type": "execute_result"
    }
   ],
   "source": [
    "#slow\n",
    "test_url = \"https://bl.oar.bl.uk/fail_uploads/download_file?fileset_id=7ac7a0cb-29a2-4172-8b79-4952e2c9b128\"\n",
    "Path(\"test_dir\").mkdir()\n",
    "test_dir = Path(\"test_dir\")\n",
    "_download(test_url, test_dir)"
   ]
  },
  {
   "cell_type": "code",
   "execution_count": 13,
   "metadata": {},
   "outputs": [],
   "source": [
    "#slow\n",
    "assert list(test_dir.iterdir())[0].suffix == \".zip\"\n",
    "assert len(list(test_dir.iterdir())) == 1\n",
    "# tidy up\n",
    "[f.unlink() for f in test_dir.iterdir()]\n",
    "test_dir.rmdir()"
   ]
  },
  {
   "cell_type": "code",
   "execution_count": 14,
   "metadata": {},
   "outputs": [
    {
     "name": "stderr",
     "output_type": "stream",
     "text": [
      "2021-02-23 09:45:42.192 | ERROR    | __main__:_download:16 - 500 Server Error: Internal Server Error for url: https://bl.oar.bl.uk/fail_uploads/download_file?fileset_id=0ea7aa1-3b4f-4972-bc12-b75597694f\n"
     ]
    }
   ],
   "source": [
    "#basic test to check bad urls won't raise unhandled exceptions\n",
    "bad_link = \"https://bl.oar.bl.uk/fail_uploads/download_file?fileset_id=0ea7aa1-3b4f-4972-bc12-b75597694f\"\n",
    "_download(bad_link, \"test_dir\")"
   ]
  },
  {
   "cell_type": "code",
   "execution_count": 15,
   "metadata": {},
   "outputs": [],
   "source": [
    "#export\n",
    "def download_from_urls(urls: List[str], save_dir: Union[str, Path], n_threads: int = 8):\n",
    "    download_count = 0\n",
    "    tic = time.perf_counter()\n",
    "    Path(save_dir).mkdir(exist_ok=True)\n",
    "    logger.remove()\n",
    "    logger.add(lambda msg: tqdm.write(msg, end=\"\"))\n",
    "    with tqdm(total=len(urls)) as progress:\n",
    "        with concurrent.futures.ThreadPoolExecutor(max_workers=n_threads) as executor:\n",
    "            future_to_url = {executor.submit(_download, url, save_dir): url for url in urls}\n",
    "            for future in future_to_url:\n",
    "                future.add_done_callback(lambda p: progress.update(1))\n",
    "            for future in concurrent.futures.as_completed(future_to_url):\n",
    "                url = future_to_url[future]\n",
    "                try:\n",
    "                    data = future.result()\n",
    "                except Exception as e:\n",
    "                    logger.error(\"%r generated an exception: %s\" % (url, e))\n",
    "                else:\n",
    "                    if data:\n",
    "                        logger.info(f\"{url} downloaded to {data}\")\n",
    "                        download_count+=1\n",
    "        toc = time.perf_counter()\n",
    "    logger.remove()\n",
    "    logger.info(f\"Downloads completed in {toc - tic:0.4f} seconds\")\n",
    "    return download_count"
   ]
  },
  {
   "cell_type": "code",
   "execution_count": 16,
   "metadata": {},
   "outputs": [],
   "source": [
    "test_links = [\n",
    "    \"https://bl.oar.bl.uk/fail_uploads/download_file?fileset_id=50ebdb11-9186-4c24-90e5-27caf73d3f11\",\n",
    "    \"https://bl.oar.bl.uk/fail_uploads/download_file?fileset_id=9c4f2fd6-d58c-4a57-8fac-a5dd273f8ed3\",\n",
    "]"
   ]
  },
  {
   "cell_type": "code",
   "execution_count": 17,
   "metadata": {},
   "outputs": [
    {
     "name": "stderr",
     "output_type": "stream",
     "text": [
      " 50%|█████     | 1/2 [04:31<04:31, 271.81s/it]"
     ]
    },
    {
     "name": "stdout",
     "output_type": "stream",
     "text": [
      "2021-02-23 09:50:14.041 | INFO     | __main__:download_from_urls:21 - https://bl.oar.bl.uk/fail_uploads/download_file?fileset_id=9c4f2fd6-d58c-4a57-8fac-a5dd273f8ed3 downloaded to BLNewspapers_0002642_TheExpress_1864_68176359-717d-4878-a2ac-1228c0fb83f8.zip\n"
     ]
    },
    {
     "name": "stderr",
     "output_type": "stream",
     "text": [
      "100%|██████████| 2/2 [04:34<00:00, 137.07s/it]"
     ]
    },
    {
     "name": "stdout",
     "output_type": "stream",
     "text": [
      "2021-02-23 09:50:16.375 | INFO     | __main__:download_from_urls:21 - https://bl.oar.bl.uk/fail_uploads/download_file?fileset_id=50ebdb11-9186-4c24-90e5-27caf73d3f11 downloaded to BLNewspapers_0002642_TheExpress_1863_96dbbbb9-40b8-44c2-b350-b9559b092b1e.zip\n"
     ]
    },
    {
     "name": "stderr",
     "output_type": "stream",
     "text": [
      "\n"
     ]
    },
    {
     "data": {
      "text/plain": [
       "2"
      ]
     },
     "execution_count": 17,
     "metadata": {},
     "output_type": "execute_result"
    }
   ],
   "source": [
    "download_from_urls(test_links, \"test_dir\")"
   ]
  },
  {
   "cell_type": "code",
   "execution_count": 18,
   "metadata": {},
   "outputs": [],
   "source": [
    "#slow\n",
    "assert len(test_links) == len(os.listdir(\"test_dir\"))\n",
    "test_dir = Path(\"test_dir\")\n",
    "[f.unlink() for f in test_dir.iterdir()]\n",
    "test_dir.rmdir()"
   ]
  },
  {
   "cell_type": "code",
   "execution_count": 19,
   "metadata": {},
   "outputs": [
    {
     "name": "stderr",
     "output_type": "stream",
     "text": [
      " 50%|█████     | 1/2 [00:00<00:00,  2.14it/s]"
     ]
    },
    {
     "name": "stdout",
     "output_type": "stream",
     "text": [
      "2021-02-23 09:50:16.907 | ERROR    | __main__:_download:16 - 500 Server Error: Internal Server Error for url: https://bl.oar.bl.uk/fail_uploads/download_file?fileset_id=7ac7a0cb-29a2-4172-8b79-4952e2c9b\n"
     ]
    },
    {
     "name": "stderr",
     "output_type": "stream",
     "text": [
      "100%|██████████| 2/2 [02:29<00:00, 74.54s/it]"
     ]
    },
    {
     "name": "stdout",
     "output_type": "stream",
     "text": [
      "2021-02-23 09:52:45.520 | INFO     | __main__:download_from_urls:21 - https://bl.oar.bl.uk/fail_uploads/download_file?fileset_id=0ea7aa1f-3b4f-4972-bc12-b7559769471f downloaded to BLNewspapers_0002642_TheExpress_1848_f1c4cb8d-6bd5-401f-831f-a19199d47c0a.zip\n"
     ]
    },
    {
     "name": "stderr",
     "output_type": "stream",
     "text": [
      "\n"
     ]
    },
    {
     "data": {
      "text/plain": [
       "1"
      ]
     },
     "execution_count": 19,
     "metadata": {},
     "output_type": "execute_result"
    }
   ],
   "source": [
    "#slow\n",
    "test_some_bad_links = [\n",
    "    \"https://bl.oar.bl.uk/fail_uploads/download_file?fileset_id=0ea7aa1f-3b4f-4972-bc12-b7559769471f\",\n",
    "    \"https://bl.oar.bl.uk/fail_uploads/download_file?fileset_id=7ac7a0cb-29a2-4172-8b79-4952e2c9b\",\n",
    "]\n",
    "download_from_urls(test_some_bad_links, \"test_dir\")"
   ]
  },
  {
   "cell_type": "code",
   "execution_count": 20,
   "metadata": {},
   "outputs": [],
   "source": [
    "#slow\n",
    "test_dir = Path(\"test_dir\")\n",
    "[f.unlink() for f in test_dir.iterdir()]\n",
    "test_dir.rmdir()"
   ]
  },
  {
   "cell_type": "code",
   "execution_count": 21,
   "metadata": {},
   "outputs": [],
   "source": [
    "#export\n",
    "@call_parse\n",
    "def cli(\n",
    "    save_dir: Param(\"Output Directory\", str),\n",
    "    n_threads: Param(\"Number threads to use\") = 8,\n",
    "    subset: Param(\"Download subset of HMD\", Union[int]) = None\n",
    "):\n",
    "    \"Download HMD newspaper from iro to `save_dir` using `n_threads`\"\n",
    "    logger.info(\"Getting title urls\")\n",
    "    title_urls = get_newspaper_links()\n",
    "    logger.info(f\"Found {len(title_urls)} title urls\")\n",
    "    all_urls = []\n",
    "    for url in title_urls:\n",
    "        logger.info(f\"Getting zip download file urls for {url}\")\n",
    "        try:\n",
    "            zip_urls = get_download_urls(url[1])\n",
    "            all_urls.append(zip_urls)\n",
    "        except Exception as e:\n",
    "            logger.error(e)\n",
    "    all_urls = list(itertools.chain(*all_urls))\n",
    "    if subset:\n",
    "        all_urls = random.sample(all_urls, subset)\n",
    "    print(all_urls)\n",
    "    download_count = download_from_urls(all_urls, save_dir, n_threads=n_threads)\n",
    "    request_url_count = len(all_urls)\n",
    "    if request_url_count==download_count:\n",
    "        logger.info(f\"\\U0001F600 Requested count of urls: {request_url_count} matches number downloaded: {download_count}\")\n",
    "    if request_url_count>download_count:\n",
    "        logger.warning(f\"\\U0001F622 Requested count of urls: {request_url_count} higher than number downloaded: {download_count}\")\n",
    "    if request_url_count<download_count:\n",
    "        logger.warning(f\"\\U0001F937 Requested count of urls: {request_url_count} lower than number downloaded: {download_count}\")"
   ]
  },
  {
   "cell_type": "code",
   "execution_count": 22,
   "metadata": {},
   "outputs": [
    {
     "name": "stderr",
     "output_type": "stream",
     "text": [
      "  0%|          | 0/3 [00:00<?, ?it/s]"
     ]
    },
    {
     "name": "stdout",
     "output_type": "stream",
     "text": [
      "['https://bl.oar.bl.uk/fail_uploads/download_file?fileset_id=cd69be4a-2773-4ac6-80b1-de65e6664f16', 'https://bl.oar.bl.uk/fail_uploads/download_file?fileset_id=958ece9a-49c5-4991-82a8-84739a9b2312', 'https://bl.oar.bl.uk/fail_uploads/download_file?fileset_id=e98123f6-7138-4b26-8b42-8d1211b97e02']\n"
     ]
    },
    {
     "name": "stderr",
     "output_type": "stream",
     "text": [
      " 33%|███▎      | 1/3 [02:29<04:58, 149.38s/it]"
     ]
    },
    {
     "name": "stdout",
     "output_type": "stream",
     "text": [
      "2021-02-23 09:55:42.503 | INFO     | __main__:download_from_urls:21 - https://bl.oar.bl.uk/fail_uploads/download_file?fileset_id=cd69be4a-2773-4ac6-80b1-de65e6664f16 downloaded to BLNewspapers_0002088_TheLiverpoolStandardAndGeneralCommercialAdvertiser_1835.zip\n"
     ]
    },
    {
     "name": "stderr",
     "output_type": "stream",
     "text": [
      " 67%|██████▋   | 2/3 [03:18<01:30, 90.68s/it] "
     ]
    },
    {
     "name": "stdout",
     "output_type": "stream",
     "text": [
      "2021-02-23 09:56:32.088 | INFO     | __main__:download_from_urls:21 - https://bl.oar.bl.uk/fail_uploads/download_file?fileset_id=958ece9a-49c5-4991-82a8-84739a9b2312 downloaded to BLNewspapers_0002194_TheSun_1821.zip\n"
     ]
    },
    {
     "name": "stderr",
     "output_type": "stream",
     "text": [
      "100%|██████████| 3/3 [07:13<00:00, 144.35s/it]"
     ]
    },
    {
     "name": "stdout",
     "output_type": "stream",
     "text": [
      "2021-02-23 10:00:26.169 | INFO     | __main__:download_from_urls:21 - https://bl.oar.bl.uk/fail_uploads/download_file?fileset_id=e98123f6-7138-4b26-8b42-8d1211b97e02 downloaded to BLNewspapers_0002194_TheSun_1862.zip\n"
     ]
    },
    {
     "name": "stderr",
     "output_type": "stream",
     "text": [
      "\n"
     ]
    }
   ],
   "source": [
    "cli(\"test_dir\", subset=3)"
   ]
  },
  {
   "cell_type": "code",
   "execution_count": 23,
   "metadata": {},
   "outputs": [
    {
     "name": "stdout",
     "output_type": "stream",
     "text": [
      "Converted 00_core.ipynb.\n",
      "Converted index.ipynb.\n"
     ]
    }
   ],
   "source": [
    "from nbdev.export import notebook2script\n",
    "notebook2script()"
   ]
  },
  {
   "cell_type": "code",
   "execution_count": 24,
   "metadata": {},
   "outputs": [],
   "source": [
    "test_dir = Path(\"test_dir\")\n",
    "[f.unlink() for f in test_dir.iterdir()]\n",
    "test_dir.rmdir()"
   ]
  }
 ],
 "metadata": {
  "kernelspec": {
   "display_name": "Python 3",
   "language": "python",
   "name": "python3"
  },
  "language_info": {
   "codemirror_mode": {
    "name": "ipython",
    "version": 3
   },
   "file_extension": ".py",
   "mimetype": "text/x-python",
   "name": "python",
   "nbconvert_exporter": "python",
   "pygments_lexer": "ipython3",
   "version": "3.9.1"
  }
 },
 "nbformat": 4,
 "nbformat_minor": 4
}
