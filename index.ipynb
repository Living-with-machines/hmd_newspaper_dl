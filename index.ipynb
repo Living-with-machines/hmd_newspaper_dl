{
 "cells": [
  {
   "cell_type": "code",
   "execution_count": null,
   "metadata": {},
   "outputs": [],
   "source": [
    "#hide\n",
    "from hmd_newspaper_dl.core import *"
   ]
  },
  {
   "cell_type": "markdown",
   "metadata": {},
   "source": [
    "# hmd_download\n",
    "\n",
    "> Bulk download Heritage Made Digital digitised newspapers from the British Library Research Repository "
   ]
  },
  {
   "cell_type": "markdown",
   "metadata": {},
   "source": [
    "This tool is intended to make it easy to bulk download [Heritage Made Digital Newspapers](https://bl.iro.bl.uk/collections/353c908d-b495-4413-b047-87236d2573e3?utf8=%E2%9C%93&sort=score+desc%2C+system_create_dtsi+desc&per_page=100&locale=en) from the [British Library](https://www.bl.uk/) [Research Repository](https://bl.iro.bl.uk/). "
   ]
  },
  {
   "cell_type": "markdown",
   "metadata": {},
   "source": [
    "## Install"
   ]
  },
  {
   "cell_type": "markdown",
   "metadata": {},
   "source": [
    "```bash\n",
    "git clone https://github.com/Living-with-machines/hmd_newspaper_dl\n",
    "```\n",
    "and then use pip install inside a virtual environment:\n",
    "\n",
    "```bash\n",
    "pip install -e .\n",
    "```"
   ]
  },
  {
   "cell_type": "markdown",
   "metadata": {},
   "source": [
    "## How to use\n",
    "\n",
    "If you use pip install like this you will also have made available a console script `hmd_download`:"
   ]
  },
  {
   "cell_type": "code",
   "execution_count": null,
   "metadata": {},
   "outputs": [
    {
     "name": "stdout",
     "output_type": "stream",
     "text": [
      "usage: hmd_download [-h] [--n_threads N_THREADS] [--subset SUBSET] save_dir\n",
      "\n",
      "Download HMD newspaper from iro to `save_dir` using `n_threads`\n",
      "\n",
      "positional arguments:\n",
      "  save_dir               Output Directory\n",
      "\n",
      "optional arguments:\n",
      "  -h, --help             show this help message and exit\n",
      "  --n_threads N_THREADS  Number threads to use (default: 8)\n",
      "  --subset SUBSET        Download subset of HMD\n"
     ]
    }
   ],
   "source": [
    "#hide_input\n",
    "!hmd_download -h"
   ]
  }
 ],
 "metadata": {
  "kernelspec": {
   "display_name": "Python 3 (ipykernel)",
   "language": "python",
   "name": "python3"
  }
 },
 "nbformat": 4,
 "nbformat_minor": 4
}
